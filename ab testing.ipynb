{
 "cells": [
  {
   "cell_type": "code",
   "execution_count": 2,
   "id": "organic-python",
   "metadata": {},
   "outputs": [],
   "source": [
    "import pandas as pd\n",
    "import numpy as np\n",
    "import seaborn as sns\n",
    "import scipy.stats as ss "
   ]
  },
  {
   "cell_type": "code",
   "execution_count": 35,
   "id": "improving-excerpt",
   "metadata": {},
   "outputs": [],
   "source": [
    "datam= pd.read_csv(\"C:/Users/Monster/Desktop/rastgele.csv\")"
   ]
  },
  {
   "cell_type": "code",
   "execution_count": null,
   "id": "seven-edgar",
   "metadata": {},
   "outputs": [],
   "source": [
    "#T-Test Assumptions\n",
    "#The first assumption made regarding t-tests concerns the scale of measurement. \n",
    "#The assumption for a t-test is that the scale of measurement applied to the data collected follows a continuous or ordinal scale, such as the scores for an IQ test.\n",
    "#The second assumption made is that of a simple random sample, that the data is collected from a representative, randomly selected portion of the total population.\n",
    "#The third assumption is the data, when plotted, results in a normal distribution, bell-shaped distribution curve.\n",
    "#The final assumption is the homogeneity of variance. \n",
    "#Homogeneous, or equal, variance exists when the standard deviations of samples are approximately equal\n",
    "\n"
   ]
  },
  {
   "cell_type": "code",
   "execution_count": 28,
   "id": "opened-brake",
   "metadata": {},
   "outputs": [
    {
     "name": "stdout",
     "output_type": "stream",
     "text": [
      "<class 'pandas.core.frame.DataFrame'>\n",
      "RangeIndex: 31 entries, 0 to 30\n",
      "Data columns (total 5 columns):\n",
      " #   Column    Non-Null Count  Dtype  \n",
      "---  ------    --------------  -----  \n",
      " 0   Day       31 non-null     int64  \n",
      " 1   BookA     31 non-null     float64\n",
      " 2   BookB     31 non-null     float64\n",
      " 3   A_Rating  31 non-null     int64  \n",
      " 4   B_Rating  31 non-null     int64  \n",
      "dtypes: float64(2), int64(3)\n",
      "memory usage: 1.3 KB\n"
     ]
    }
   ],
   "source": [
    "##objective : To determine whether there is no difference in books quality or not.\n",
    "# To know that , we hold daily data and their ratings.\n",
    "## Null Hypothesis : No difference \n",
    "## Alternative Hypothesis : Difference Exists \n",
    "\n",
    "\n",
    "datam.info()"
   ]
  },
  {
   "cell_type": "code",
   "execution_count": 29,
   "id": "radical-southwest",
   "metadata": {},
   "outputs": [
    {
     "name": "stdout",
     "output_type": "stream",
     "text": [
      "Day         0\n",
      "BookA       0\n",
      "BookB       0\n",
      "A_Rating    0\n",
      "B_Rating    0\n",
      "dtype: int64\n"
     ]
    }
   ],
   "source": [
    "## Check na values\n",
    "print(datam.isna().sum())"
   ]
  },
  {
   "cell_type": "code",
   "execution_count": 30,
   "id": "concerned-cinema",
   "metadata": {},
   "outputs": [
    {
     "data": {
      "text/html": [
       "<div>\n",
       "<style scoped>\n",
       "    .dataframe tbody tr th:only-of-type {\n",
       "        vertical-align: middle;\n",
       "    }\n",
       "\n",
       "    .dataframe tbody tr th {\n",
       "        vertical-align: top;\n",
       "    }\n",
       "\n",
       "    .dataframe thead th {\n",
       "        text-align: right;\n",
       "    }\n",
       "</style>\n",
       "<table border=\"1\" class=\"dataframe\">\n",
       "  <thead>\n",
       "    <tr style=\"text-align: right;\">\n",
       "      <th></th>\n",
       "      <th>Day</th>\n",
       "      <th>BookA</th>\n",
       "      <th>BookB</th>\n",
       "      <th>A_Rating</th>\n",
       "      <th>B_Rating</th>\n",
       "    </tr>\n",
       "  </thead>\n",
       "  <tbody>\n",
       "    <tr>\n",
       "      <th>count</th>\n",
       "      <td>31.000000</td>\n",
       "      <td>31.000000</td>\n",
       "      <td>31.000000</td>\n",
       "      <td>31.000000</td>\n",
       "      <td>31.000000</td>\n",
       "    </tr>\n",
       "    <tr>\n",
       "      <th>mean</th>\n",
       "      <td>16.000000</td>\n",
       "      <td>0.161613</td>\n",
       "      <td>0.193226</td>\n",
       "      <td>35.967742</td>\n",
       "      <td>31.290323</td>\n",
       "    </tr>\n",
       "    <tr>\n",
       "      <th>std</th>\n",
       "      <td>9.092121</td>\n",
       "      <td>0.035599</td>\n",
       "      <td>0.026881</td>\n",
       "      <td>12.139423</td>\n",
       "      <td>11.969944</td>\n",
       "    </tr>\n",
       "    <tr>\n",
       "      <th>min</th>\n",
       "      <td>1.000000</td>\n",
       "      <td>0.100000</td>\n",
       "      <td>0.150000</td>\n",
       "      <td>10.000000</td>\n",
       "      <td>15.000000</td>\n",
       "    </tr>\n",
       "    <tr>\n",
       "      <th>25%</th>\n",
       "      <td>8.500000</td>\n",
       "      <td>0.135000</td>\n",
       "      <td>0.180000</td>\n",
       "      <td>25.000000</td>\n",
       "      <td>20.000000</td>\n",
       "    </tr>\n",
       "    <tr>\n",
       "      <th>50%</th>\n",
       "      <td>16.000000</td>\n",
       "      <td>0.160000</td>\n",
       "      <td>0.190000</td>\n",
       "      <td>40.000000</td>\n",
       "      <td>25.000000</td>\n",
       "    </tr>\n",
       "    <tr>\n",
       "      <th>75%</th>\n",
       "      <td>23.500000</td>\n",
       "      <td>0.185000</td>\n",
       "      <td>0.200000</td>\n",
       "      <td>45.000000</td>\n",
       "      <td>40.000000</td>\n",
       "    </tr>\n",
       "    <tr>\n",
       "      <th>max</th>\n",
       "      <td>31.000000</td>\n",
       "      <td>0.230000</td>\n",
       "      <td>0.270000</td>\n",
       "      <td>50.000000</td>\n",
       "      <td>50.000000</td>\n",
       "    </tr>\n",
       "  </tbody>\n",
       "</table>\n",
       "</div>"
      ],
      "text/plain": [
       "            Day       BookA      BookB   A_Rating   B_Rating\n",
       "count  31.000000  31.000000  31.000000  31.000000  31.000000\n",
       "mean   16.000000   0.161613   0.193226  35.967742  31.290323\n",
       "std     9.092121   0.035599   0.026881  12.139423  11.969944\n",
       "min     1.000000   0.100000   0.150000  10.000000  15.000000\n",
       "25%     8.500000   0.135000   0.180000  25.000000  20.000000\n",
       "50%    16.000000   0.160000   0.190000  40.000000  25.000000\n",
       "75%    23.500000   0.185000   0.200000  45.000000  40.000000\n",
       "max    31.000000   0.230000   0.270000  50.000000  50.000000"
      ]
     },
     "execution_count": 30,
     "metadata": {},
     "output_type": "execute_result"
    }
   ],
   "source": [
    "datam.describe()"
   ]
  },
  {
   "cell_type": "code",
   "execution_count": 31,
   "id": "synthetic-mechanism",
   "metadata": {},
   "outputs": [
    {
     "name": "stderr",
     "output_type": "stream",
     "text": [
      "C:\\Users\\Monster\\anaconda3\\lib\\site-packages\\seaborn\\distributions.py:2557: FutureWarning: `distplot` is a deprecated function and will be removed in a future version. Please adapt your code to use either `displot` (a figure-level function with similar flexibility) or `histplot` (an axes-level function for histograms).\n",
      "  warnings.warn(msg, FutureWarning)\n"
     ]
    },
    {
     "data": {
      "text/plain": [
       "<AxesSubplot:xlabel='BookA', ylabel='Density'>"
      ]
     },
     "execution_count": 31,
     "metadata": {},
     "output_type": "execute_result"
    },
    {
     "data": {
      "image/png": "[encoded data removed]",
      "text/plain": [
       "<Figure size 432x288 with 1 Axes>"
      ]
     },
     "metadata": {
      "needs_background": "light"
     },
     "output_type": "display_data"
    }
   ],
   "source": [
    "sns.distplot(datam.BookA)"
   ]
  },
  {
   "cell_type": "code",
   "execution_count": 32,
   "id": "amended-adolescent",
   "metadata": {},
   "outputs": [
    {
     "name": "stderr",
     "output_type": "stream",
     "text": [
      "C:\\Users\\Monster\\anaconda3\\lib\\site-packages\\seaborn\\distributions.py:2557: FutureWarning: `distplot` is a deprecated function and will be removed in a future version. Please adapt your code to use either `displot` (a figure-level function with similar flexibility) or `histplot` (an axes-level function for histograms).\n",
      "  warnings.warn(msg, FutureWarning)\n"
     ]
    },
    {
     "data": {
      "text/plain": [
       "<AxesSubplot:xlabel='BookB', ylabel='Density'>"
      ]
     },
     "execution_count": 32,
     "metadata": {},
     "output_type": "execute_result"
    },
    {
     "data": {
      "image/png": "[encoded data removed]",
      "text/plain": [
       "<Figure size 432x288 with 1 Axes>"
      ]
     },
     "metadata": {
      "needs_background": "light"
     },
     "output_type": "display_data"
    }
   ],
   "source": [
    "sns.distplot(datam.BookB)"
   ]
  },
  {
   "cell_type": "code",
   "execution_count": 33,
   "id": "partial-bracket",
   "metadata": {},
   "outputs": [
    {
     "name": "stderr",
     "output_type": "stream",
     "text": [
      "C:\\Users\\Monster\\anaconda3\\lib\\site-packages\\seaborn\\distributions.py:2557: FutureWarning: `distplot` is a deprecated function and will be removed in a future version. Please adapt your code to use either `displot` (a figure-level function with similar flexibility) or `histplot` (an axes-level function for histograms).\n",
      "  warnings.warn(msg, FutureWarning)\n"
     ]
    },
    {
     "data": {
      "text/plain": [
       "<AxesSubplot:xlabel='A_Rating', ylabel='Density'>"
      ]
     },
     "execution_count": 33,
     "metadata": {},
     "output_type": "execute_result"
    },
    {
     "data": {
      "image/png": "[encoded data removed]",
      "text/plain": [
       "<Figure size 432x288 with 1 Axes>"
      ]
     },
     "metadata": {
      "needs_background": "light"
     },
     "output_type": "display_data"
    }
   ],
   "source": [
    "sns.distplot(datam.A_Rating)"
   ]
  },
  {
   "cell_type": "code",
   "execution_count": 34,
   "id": "attractive-devon",
   "metadata": {},
   "outputs": [
    {
     "name": "stderr",
     "output_type": "stream",
     "text": [
      "C:\\Users\\Monster\\anaconda3\\lib\\site-packages\\seaborn\\distributions.py:2557: FutureWarning: `distplot` is a deprecated function and will be removed in a future version. Please adapt your code to use either `displot` (a figure-level function with similar flexibility) or `histplot` (an axes-level function for histograms).\n",
      "  warnings.warn(msg, FutureWarning)\n"
     ]
    },
    {
     "data": {
      "text/plain": [
       "<AxesSubplot:xlabel='B_Rating', ylabel='Density'>"
      ]
     },
     "execution_count": 34,
     "metadata": {},
     "output_type": "execute_result"
    },
    {
     "data": {
      "image/png": "[encoded data removed]",
      "text/plain": [
       "<Figure size 432x288 with 1 Axes>"
      ]
     },
     "metadata": {
      "needs_background": "light"
     },
     "output_type": "display_data"
    }
   ],
   "source": [
    "sns.distplot(datam.B_Rating)"
   ]
  },
  {
   "cell_type": "code",
   "execution_count": 30,
   "id": "narrative-coral",
   "metadata": {},
   "outputs": [
    {
     "data": {
      "text/plain": [
       "(3.78736793091929, 0.000363796012828762)"
      ]
     },
     "execution_count": 30,
     "metadata": {},
     "output_type": "execute_result"
    }
   ],
   "source": [
    "t_stat, p_val= ss.ttest_ind(datam.BookB,datam.BookA)\n",
    "t_stat , p_val\n",
    "\n",
    "## This shows it is smaller than 0.05 for p test.\n"
   ]
  },
  {
   "cell_type": "code",
   "execution_count": 36,
   "id": "conceptual-spirit",
   "metadata": {},
   "outputs": [
    {
     "data": {
      "text/plain": [
       "(0.4762415859217723, 0.6356319669336908)"
      ]
     },
     "execution_count": 36,
     "metadata": {},
     "output_type": "execute_result"
    }
   ],
   "source": [
    "##Rating For Books.\n",
    "##By the way, the reason for using bigger numbers is just checking if we scale all values by multiplying 10,\n",
    "##what would be changed. After observations,nothing has changed but we randomized the numbers more and we get these results.\n",
    "\n",
    "\n",
    "t_s, p_val = ss.ttest_ind(datam.A_Rating,datam.B_Rating)\n",
    "t_s , p_val"
   ]
  }
 ],
 "metadata": {
  "kernelspec": {
   "display_name": "Python 3",
   "language": "python",
   "name": "python3"
  },
  "language_info": {
   "codemirror_mode": {
    "name": "ipython",
    "version": 3
   },
   "file_extension": ".py",
   "mimetype": "text/x-python",
   "name": "python",
   "nbconvert_exporter": "python",
   "pygments_lexer": "ipython3",
   "version": "3.8.5"
  }
 },
 "nbformat": 4,
 "nbformat_minor": 5
}
